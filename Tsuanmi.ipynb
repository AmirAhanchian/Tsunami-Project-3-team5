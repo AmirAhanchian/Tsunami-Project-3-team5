{
 "cells": [
  {
   "cell_type": "code",
   "execution_count": 1,
   "id": "a3c4b545",
   "metadata": {},
   "outputs": [],
   "source": [
    "import pandas as pd\n",
    "\n",
    "import warnings\n",
    "warnings.filterwarnings(\"ignore\")"
   ]
  },
  {
   "cell_type": "code",
   "execution_count": 2,
   "id": "a2b8e499",
   "metadata": {},
   "outputs": [],
   "source": [
    "df = pd.read_csv(\"Resources/tsunami.csv\")"
   ]
  },
  {
   "cell_type": "markdown",
   "id": "d85ade45",
   "metadata": {},
   "source": [
    "### Isolate Last 100 Years ⌚️\n",
    "---"
   ]
  },
  {
   "cell_type": "code",
   "execution_count": 3,
   "id": "ea1057b8",
   "metadata": {},
   "outputs": [],
   "source": [
    "previous_100 = df[df['Year'] >= 1921]"
   ]
  },
  {
   "cell_type": "code",
   "execution_count": 4,
   "id": "f588ca97",
   "metadata": {},
   "outputs": [
    {
     "data": {
      "text/html": [
       "<div>\n",
       "<style scoped>\n",
       "    .dataframe tbody tr th:only-of-type {\n",
       "        vertical-align: middle;\n",
       "    }\n",
       "\n",
       "    .dataframe tbody tr th {\n",
       "        vertical-align: top;\n",
       "    }\n",
       "\n",
       "    .dataframe thead th {\n",
       "        text-align: right;\n",
       "    }\n",
       "</style>\n",
       "<table border=\"1\" class=\"dataframe\">\n",
       "  <thead>\n",
       "    <tr style=\"text-align: right;\">\n",
       "      <th></th>\n",
       "      <th>Year</th>\n",
       "      <th>Mo</th>\n",
       "      <th>Dy</th>\n",
       "      <th>Hr</th>\n",
       "      <th>Mn</th>\n",
       "      <th>Sec</th>\n",
       "      <th>Tsunami Event Validity</th>\n",
       "      <th>Tsunami Cause Code</th>\n",
       "      <th>Earthquake Magnitude</th>\n",
       "      <th>Deposits</th>\n",
       "      <th>...</th>\n",
       "      <th>Tsunami Magnitude (Iida)</th>\n",
       "      <th>Tsunami Intensity</th>\n",
       "      <th>Total Deaths</th>\n",
       "      <th>Total Missing</th>\n",
       "      <th>Total Missing Description</th>\n",
       "      <th>Total Injuries</th>\n",
       "      <th>Total Damage ($Mil)</th>\n",
       "      <th>Total Damage Description</th>\n",
       "      <th>Total Houses Destroyed</th>\n",
       "      <th>Total Houses Damaged</th>\n",
       "    </tr>\n",
       "  </thead>\n",
       "  <tbody>\n",
       "    <tr>\n",
       "      <th>1002</th>\n",
       "      <td>1921.0</td>\n",
       "      <td>5.0</td>\n",
       "      <td>14.0</td>\n",
       "      <td>11.0</td>\n",
       "      <td>17.0</td>\n",
       "      <td>45.0</td>\n",
       "      <td>2.0</td>\n",
       "      <td>1.0</td>\n",
       "      <td>6.2</td>\n",
       "      <td>0.0</td>\n",
       "      <td>...</td>\n",
       "      <td>NaN</td>\n",
       "      <td>0.5</td>\n",
       "      <td>NaN</td>\n",
       "      <td>NaN</td>\n",
       "      <td>NaN</td>\n",
       "      <td>NaN</td>\n",
       "      <td>NaN</td>\n",
       "      <td>2.0</td>\n",
       "      <td>NaN</td>\n",
       "      <td>NaN</td>\n",
       "    </tr>\n",
       "    <tr>\n",
       "      <th>1003</th>\n",
       "      <td>1921.0</td>\n",
       "      <td>8.0</td>\n",
       "      <td>4.0</td>\n",
       "      <td>NaN</td>\n",
       "      <td>NaN</td>\n",
       "      <td>NaN</td>\n",
       "      <td>3.0</td>\n",
       "      <td>1.0</td>\n",
       "      <td>NaN</td>\n",
       "      <td>0.0</td>\n",
       "      <td>...</td>\n",
       "      <td>NaN</td>\n",
       "      <td>NaN</td>\n",
       "      <td>NaN</td>\n",
       "      <td>NaN</td>\n",
       "      <td>NaN</td>\n",
       "      <td>NaN</td>\n",
       "      <td>NaN</td>\n",
       "      <td>2.0</td>\n",
       "      <td>NaN</td>\n",
       "      <td>NaN</td>\n",
       "    </tr>\n",
       "    <tr>\n",
       "      <th>1004</th>\n",
       "      <td>1921.0</td>\n",
       "      <td>9.0</td>\n",
       "      <td>11.0</td>\n",
       "      <td>4.0</td>\n",
       "      <td>1.0</td>\n",
       "      <td>38.0</td>\n",
       "      <td>4.0</td>\n",
       "      <td>1.0</td>\n",
       "      <td>7.5</td>\n",
       "      <td>0.0</td>\n",
       "      <td>...</td>\n",
       "      <td>-2.3</td>\n",
       "      <td>-2.0</td>\n",
       "      <td>NaN</td>\n",
       "      <td>NaN</td>\n",
       "      <td>NaN</td>\n",
       "      <td>NaN</td>\n",
       "      <td>NaN</td>\n",
       "      <td>NaN</td>\n",
       "      <td>NaN</td>\n",
       "      <td>NaN</td>\n",
       "    </tr>\n",
       "    <tr>\n",
       "      <th>1005</th>\n",
       "      <td>1921.0</td>\n",
       "      <td>11.0</td>\n",
       "      <td>11.0</td>\n",
       "      <td>18.0</td>\n",
       "      <td>36.0</td>\n",
       "      <td>8.0</td>\n",
       "      <td>3.0</td>\n",
       "      <td>1.0</td>\n",
       "      <td>7.5</td>\n",
       "      <td>0.0</td>\n",
       "      <td>...</td>\n",
       "      <td>0.5</td>\n",
       "      <td>1.0</td>\n",
       "      <td>NaN</td>\n",
       "      <td>NaN</td>\n",
       "      <td>NaN</td>\n",
       "      <td>NaN</td>\n",
       "      <td>NaN</td>\n",
       "      <td>1.0</td>\n",
       "      <td>NaN</td>\n",
       "      <td>NaN</td>\n",
       "    </tr>\n",
       "    <tr>\n",
       "      <th>1006</th>\n",
       "      <td>1921.0</td>\n",
       "      <td>12.0</td>\n",
       "      <td>16.0</td>\n",
       "      <td>NaN</td>\n",
       "      <td>NaN</td>\n",
       "      <td>NaN</td>\n",
       "      <td>-1.0</td>\n",
       "      <td>9.0</td>\n",
       "      <td>NaN</td>\n",
       "      <td>0.0</td>\n",
       "      <td>...</td>\n",
       "      <td>NaN</td>\n",
       "      <td>0.0</td>\n",
       "      <td>NaN</td>\n",
       "      <td>NaN</td>\n",
       "      <td>NaN</td>\n",
       "      <td>NaN</td>\n",
       "      <td>NaN</td>\n",
       "      <td>NaN</td>\n",
       "      <td>NaN</td>\n",
       "      <td>NaN</td>\n",
       "    </tr>\n",
       "  </tbody>\n",
       "</table>\n",
       "<p>5 rows × 26 columns</p>\n",
       "</div>"
      ],
      "text/plain": [
       "        Year    Mo    Dy    Hr    Mn   Sec  Tsunami Event Validity  \\\n",
       "1002  1921.0   5.0  14.0  11.0  17.0  45.0                     2.0   \n",
       "1003  1921.0   8.0   4.0   NaN   NaN   NaN                     3.0   \n",
       "1004  1921.0   9.0  11.0   4.0   1.0  38.0                     4.0   \n",
       "1005  1921.0  11.0  11.0  18.0  36.0   8.0                     3.0   \n",
       "1006  1921.0  12.0  16.0   NaN   NaN   NaN                    -1.0   \n",
       "\n",
       "      Tsunami Cause Code  Earthquake Magnitude  Deposits  ...  \\\n",
       "1002                 1.0                   6.2       0.0  ...   \n",
       "1003                 1.0                   NaN       0.0  ...   \n",
       "1004                 1.0                   7.5       0.0  ...   \n",
       "1005                 1.0                   7.5       0.0  ...   \n",
       "1006                 9.0                   NaN       0.0  ...   \n",
       "\n",
       "     Tsunami Magnitude (Iida) Tsunami Intensity  Total Deaths  Total Missing  \\\n",
       "1002                      NaN               0.5           NaN            NaN   \n",
       "1003                      NaN               NaN           NaN            NaN   \n",
       "1004                     -2.3              -2.0           NaN            NaN   \n",
       "1005                      0.5               1.0           NaN            NaN   \n",
       "1006                      NaN               0.0           NaN            NaN   \n",
       "\n",
       "      Total Missing Description  Total Injuries  Total Damage ($Mil)  \\\n",
       "1002                        NaN             NaN                  NaN   \n",
       "1003                        NaN             NaN                  NaN   \n",
       "1004                        NaN             NaN                  NaN   \n",
       "1005                        NaN             NaN                  NaN   \n",
       "1006                        NaN             NaN                  NaN   \n",
       "\n",
       "      Total Damage Description  Total Houses Destroyed  Total Houses Damaged  \n",
       "1002                       2.0                     NaN                   NaN  \n",
       "1003                       2.0                     NaN                   NaN  \n",
       "1004                       NaN                     NaN                   NaN  \n",
       "1005                       1.0                     NaN                   NaN  \n",
       "1006                       NaN                     NaN                   NaN  \n",
       "\n",
       "[5 rows x 26 columns]"
      ]
     },
     "execution_count": 4,
     "metadata": {},
     "output_type": "execute_result"
    }
   ],
   "source": [
    "previous_100.head()"
   ]
  },
  {
   "cell_type": "markdown",
   "id": "017c07d9",
   "metadata": {},
   "source": [
    "### Dropping Columns 😽😽😽"
   ]
  },
  {
   "cell_type": "code",
   "execution_count": 5,
   "id": "d38c03a4",
   "metadata": {},
   "outputs": [],
   "source": [
    "columns_drop = ['Mo', 'Dy', 'Hr', 'Mn', 'Sec']\n",
    "previous_100.drop(columns_drop, axis =1 , inplace = True)"
   ]
  },
  {
   "cell_type": "code",
   "execution_count": 6,
   "id": "72f13b23",
   "metadata": {},
   "outputs": [
    {
     "data": {
      "text/plain": [
       "Total Missing                1151\n",
       "Total Missing Description    1150\n",
       "Total Houses Damaged         1091\n",
       "Total Damage ($Mil)          1026\n",
       "Total Houses Destroyed       1019\n",
       "Total Injuries                908\n",
       "Total Deaths                  819\n",
       "Tsunami Magnitude (Iida)      775\n",
       "Tsunami Intensity             745\n",
       "Total Damage Description      608\n",
       "Maximum Water Height (m)      318\n",
       "Earthquake Magnitude          260\n",
       "Latitude                       64\n",
       "Longitude                      64\n",
       "Year                            0\n",
       "Tsunami Event Validity          0\n",
       "Location Name                   0\n",
       "Country                         0\n",
       "Deposits                        0\n",
       "Tsunami Cause Code              0\n",
       "Number of Runups                0\n",
       "dtype: int64"
      ]
     },
     "execution_count": 6,
     "metadata": {},
     "output_type": "execute_result"
    }
   ],
   "source": [
    "previous_100.isnull().sum().sort_values(ascending = False)"
   ]
  },
  {
   "cell_type": "code",
   "execution_count": 7,
   "id": "28a554d5",
   "metadata": {},
   "outputs": [],
   "source": [
    "too_many_nulls = ['Total Missing', 'Total Missing Description', 'Total Houses Damaged',\n",
    "                 'Total Damage ($Mil)', 'Total Houses Destroyed', 'Total Damage Description']\n",
    "\n",
    "previous_100.drop(too_many_nulls, axis = 1, inplace = True)"
   ]
  },
  {
   "cell_type": "markdown",
   "id": "c2ee2bc9",
   "metadata": {},
   "source": [
    "***Drop all columns that have many non-nulls***\n",
    "\n",
    "* Total Missing\n",
    "* Total Missing Description\n",
    "* Total Houses Damaged\n",
    "* Total Damaged ($Mil)\n",
    "* Total Damage Description - Can't analyze String, unless someone is a NPL (natural language processising) expert"
   ]
  },
  {
   "cell_type": "markdown",
   "id": "08c47361",
   "metadata": {},
   "source": [
    "### Must have coordinates "
   ]
  },
  {
   "cell_type": "code",
   "execution_count": 8,
   "id": "d98b0d98",
   "metadata": {},
   "outputs": [],
   "source": [
    "previous_100 = previous_100[previous_100['Latitude'].notnull()]"
   ]
  },
  {
   "cell_type": "markdown",
   "id": "e8c9861c",
   "metadata": {},
   "source": [
    "### Replace Nulls with Column Mean \n",
    "---\n",
    "\n",
    "If nulls is not significant, can replace with mean of non-nulls."
   ]
  },
  {
   "cell_type": "code",
   "execution_count": 9,
   "id": "59ca6394",
   "metadata": {
    "scrolled": false
   },
   "outputs": [
    {
     "data": {
      "text/plain": [
       "Year                          0\n",
       "Tsunami Event Validity        0\n",
       "Tsunami Cause Code            0\n",
       "Deposits                      0\n",
       "Country                       0\n",
       "Location Name                 0\n",
       "Latitude                      0\n",
       "Longitude                     0\n",
       "Number of Runups              0\n",
       "Earthquake Magnitude        198\n",
       "Maximum Water Height (m)    286\n",
       "Tsunami Intensity           690\n",
       "Tsunami Magnitude (Iida)    716\n",
       "Total Deaths                763\n",
       "Total Injuries              850\n",
       "dtype: int64"
      ]
     },
     "execution_count": 9,
     "metadata": {},
     "output_type": "execute_result"
    }
   ],
   "source": [
    "previous_100.isnull().sum().sort_values()"
   ]
  },
  {
   "cell_type": "code",
   "execution_count": 10,
   "id": "b8829b3b",
   "metadata": {},
   "outputs": [],
   "source": [
    "# Fill Low Na Columns with Mean \n",
    "previous_100['Earthquake Magnitude'] = previous_100['Earthquake Magnitude'].fillna(previous_100['Earthquake Magnitude'].mean())\n",
    "previous_100['Maximum Water Height (m)'] = previous_100['Maximum Water Height (m)'].fillna(previous_100['Maximum Water Height (m)'].mean())"
   ]
  },
  {
   "cell_type": "markdown",
   "id": "681863f1",
   "metadata": {},
   "source": [
    "## Key Columns 🔑🔑🔑\n",
    "\n",
    "1) Water Height  \n",
    "2) Tsunami Intensity vs. Magnitude (Intensity v. Magnitude Ratio)  \n",
    "3) Total Deaths  \n",
    "4) Earthquake Magnitude\n",
    "\n",
    "\n",
    "Since the key columns we want also have the most nulls, we are likely forced to delete rows with nulls."
   ]
  },
  {
   "cell_type": "code",
   "execution_count": 12,
   "id": "e08b16c5",
   "metadata": {},
   "outputs": [],
   "source": [
    "intensity = previous_100[previous_100['Tsunami Intensity'].notnull()]"
   ]
  },
  {
   "cell_type": "code",
   "execution_count": 14,
   "id": "b779c2a5",
   "metadata": {},
   "outputs": [
    {
     "data": {
      "text/plain": [
       "Year                          0\n",
       "Tsunami Event Validity        0\n",
       "Tsunami Cause Code            0\n",
       "Earthquake Magnitude          0\n",
       "Deposits                      0\n",
       "Country                       0\n",
       "Location Name                 0\n",
       "Latitude                      0\n",
       "Longitude                     0\n",
       "Maximum Water Height (m)      0\n",
       "Number of Runups              0\n",
       "Tsunami Magnitude (Iida)    139\n",
       "Tsunami Intensity             0\n",
       "Total Deaths                259\n",
       "Total Injuries              306\n",
       "dtype: int64"
      ]
     },
     "execution_count": 14,
     "metadata": {},
     "output_type": "execute_result"
    }
   ],
   "source": [
    "intensity.isnull().sum()"
   ]
  },
  {
   "cell_type": "code",
   "execution_count": 16,
   "id": "c864274a",
   "metadata": {},
   "outputs": [],
   "source": [
    "# Fill magnitude with mean, close enough \n",
    "intensity['Tsunami Magnitude (Iida)'] = intensity['Tsunami Magnitude (Iida)'].fillna(intensity['Tsunami Magnitude (Iida)'].mean())"
   ]
  },
  {
   "cell_type": "markdown",
   "id": "c32876b9",
   "metadata": {},
   "source": [
    "1) Assume that the rest have zero death or injuries, we can fact check this but for the sake of the assignment, I would suggest 0, better than dropping or putting unknown "
   ]
  },
  {
   "cell_type": "code",
   "execution_count": 18,
   "id": "986a6d7c",
   "metadata": {},
   "outputs": [],
   "source": [
    "# Fill rest with zero\n",
    "intensity = intensity.fillna(0)"
   ]
  },
  {
   "cell_type": "markdown",
   "id": "5465aa5f",
   "metadata": {},
   "source": [
    "## Distribution of Year\n",
    "---\n",
    "\n",
    "Looks like despite focusing on Intensity the year is more or less well distributed.. good nuff"
   ]
  },
  {
   "cell_type": "code",
   "execution_count": 15,
   "id": "ff21657c",
   "metadata": {},
   "outputs": [
    {
     "data": {
      "text/plain": [
       "(array([59., 38., 38., 42., 42., 63., 44., 18., 22., 40.]),\n",
       " array([1921. , 1929.2, 1937.4, 1945.6, 1953.8, 1962. , 1970.2, 1978.4,\n",
       "        1986.6, 1994.8, 2003. ]),\n",
       " <BarContainer object of 10 artists>)"
      ]
     },
     "execution_count": 15,
     "metadata": {},
     "output_type": "execute_result"
    },
    {
     "data": {
      "image/png": "[encoded data removed]",
      "text/plain": [
       "<Figure size 432x288 with 1 Axes>"
      ]
     },
     "metadata": {
      "needs_background": "light"
     },
     "output_type": "display_data"
    }
   ],
   "source": [
    "import matplotlib.pyplot as plt\n",
    "\n",
    "plt.hist(intensity['Year'])"
   ]
  },
  {
   "cell_type": "markdown",
   "id": "081738d4",
   "metadata": {},
   "source": [
    "## Data Exploration "
   ]
  },
  {
   "cell_type": "code",
   "execution_count": 21,
   "id": "999883c4",
   "metadata": {},
   "outputs": [
    {
     "data": {
      "image/png": "[encoded data removed]",
      "text/plain": [
       "<Figure size 432x288 with 2 Axes>"
      ]
     },
     "metadata": {
      "needs_background": "light"
     },
     "output_type": "display_data"
    }
   ],
   "source": [
    "import seaborn as sns \n",
    "\n",
    "sns.heatmap(intensity.corr())\n",
    "plt.show()"
   ]
  },
  {
   "cell_type": "markdown",
   "id": "084d99d8",
   "metadata": {},
   "source": [
    "* Looks like not a lot of colinearity - except for Deposits/Runups, Total Death/Injuries, and Magnitude v. Intensity\n",
    "\n",
    "*Feature Engineering*\n",
    "** Ratios ** Magnitude/Intensity or Death/Injries or Despoite/Runups "
   ]
  },
  {
   "cell_type": "code",
   "execution_count": 25,
   "id": "3cc524fb",
   "metadata": {},
   "outputs": [
    {
     "data": {
      "text/html": [
       "<div>\n",
       "<style scoped>\n",
       "    .dataframe tbody tr th:only-of-type {\n",
       "        vertical-align: middle;\n",
       "    }\n",
       "\n",
       "    .dataframe tbody tr th {\n",
       "        vertical-align: top;\n",
       "    }\n",
       "\n",
       "    .dataframe thead th {\n",
       "        text-align: right;\n",
       "    }\n",
       "</style>\n",
       "<table border=\"1\" class=\"dataframe\">\n",
       "  <thead>\n",
       "    <tr style=\"text-align: right;\">\n",
       "      <th></th>\n",
       "      <th>Year</th>\n",
       "      <th>Tsunami Event Validity</th>\n",
       "      <th>Tsunami Cause Code</th>\n",
       "      <th>Earthquake Magnitude</th>\n",
       "      <th>Deposits</th>\n",
       "      <th>Latitude</th>\n",
       "      <th>Longitude</th>\n",
       "      <th>Maximum Water Height (m)</th>\n",
       "      <th>Number of Runups</th>\n",
       "      <th>Tsunami Magnitude (Iida)</th>\n",
       "      <th>Tsunami Intensity</th>\n",
       "      <th>Total Deaths</th>\n",
       "      <th>Total Injuries</th>\n",
       "    </tr>\n",
       "  </thead>\n",
       "  <tbody>\n",
       "    <tr>\n",
       "      <th>count</th>\n",
       "      <td>406.000000</td>\n",
       "      <td>406.000000</td>\n",
       "      <td>406.000000</td>\n",
       "      <td>406.000000</td>\n",
       "      <td>406.000000</td>\n",
       "      <td>406.000000</td>\n",
       "      <td>406.000000</td>\n",
       "      <td>406.000000</td>\n",
       "      <td>406.000000</td>\n",
       "      <td>406.000000</td>\n",
       "      <td>406.000000</td>\n",
       "      <td>406.000000</td>\n",
       "      <td>406.000000</td>\n",
       "    </tr>\n",
       "    <tr>\n",
       "      <th>mean</th>\n",
       "      <td>1958.270936</td>\n",
       "      <td>3.295567</td>\n",
       "      <td>1.736453</td>\n",
       "      <td>7.054944</td>\n",
       "      <td>0.450739</td>\n",
       "      <td>20.297719</td>\n",
       "      <td>62.213133</td>\n",
       "      <td>5.827860</td>\n",
       "      <td>21.709360</td>\n",
       "      <td>0.197228</td>\n",
       "      <td>0.520345</td>\n",
       "      <td>575.115764</td>\n",
       "      <td>684.544335</td>\n",
       "    </tr>\n",
       "    <tr>\n",
       "      <th>std</th>\n",
       "      <td>23.074233</td>\n",
       "      <td>1.116135</td>\n",
       "      <td>1.950499</td>\n",
       "      <td>0.747188</td>\n",
       "      <td>2.220285</td>\n",
       "      <td>27.005454</td>\n",
       "      <td>106.761600</td>\n",
       "      <td>27.443930</td>\n",
       "      <td>84.631543</td>\n",
       "      <td>1.883445</td>\n",
       "      <td>2.022479</td>\n",
       "      <td>7302.794732</td>\n",
       "      <td>5920.489946</td>\n",
       "    </tr>\n",
       "    <tr>\n",
       "      <th>min</th>\n",
       "      <td>1921.000000</td>\n",
       "      <td>-1.000000</td>\n",
       "      <td>0.000000</td>\n",
       "      <td>4.300000</td>\n",
       "      <td>0.000000</td>\n",
       "      <td>-63.000000</td>\n",
       "      <td>-177.632000</td>\n",
       "      <td>0.030000</td>\n",
       "      <td>0.000000</td>\n",
       "      <td>-4.640000</td>\n",
       "      <td>-4.140000</td>\n",
       "      <td>0.000000</td>\n",
       "      <td>0.000000</td>\n",
       "    </tr>\n",
       "    <tr>\n",
       "      <th>25%</th>\n",
       "      <td>1938.000000</td>\n",
       "      <td>3.000000</td>\n",
       "      <td>1.000000</td>\n",
       "      <td>6.700000</td>\n",
       "      <td>0.000000</td>\n",
       "      <td>-3.290000</td>\n",
       "      <td>1.924000</td>\n",
       "      <td>0.400000</td>\n",
       "      <td>1.000000</td>\n",
       "      <td>-0.700000</td>\n",
       "      <td>-1.000000</td>\n",
       "      <td>0.000000</td>\n",
       "      <td>0.000000</td>\n",
       "    </tr>\n",
       "    <tr>\n",
       "      <th>50%</th>\n",
       "      <td>1960.000000</td>\n",
       "      <td>4.000000</td>\n",
       "      <td>1.000000</td>\n",
       "      <td>7.007684</td>\n",
       "      <td>0.000000</td>\n",
       "      <td>32.150000</td>\n",
       "      <td>124.070000</td>\n",
       "      <td>2.000000</td>\n",
       "      <td>2.000000</td>\n",
       "      <td>0.197228</td>\n",
       "      <td>0.500000</td>\n",
       "      <td>0.000000</td>\n",
       "      <td>0.000000</td>\n",
       "    </tr>\n",
       "    <tr>\n",
       "      <th>75%</th>\n",
       "      <td>1974.750000</td>\n",
       "      <td>4.000000</td>\n",
       "      <td>1.000000</td>\n",
       "      <td>7.600000</td>\n",
       "      <td>0.000000</td>\n",
       "      <td>40.627500</td>\n",
       "      <td>143.175000</td>\n",
       "      <td>5.989469</td>\n",
       "      <td>9.000000</td>\n",
       "      <td>1.000000</td>\n",
       "      <td>2.000000</td>\n",
       "      <td>6.750000</td>\n",
       "      <td>0.000000</td>\n",
       "    </tr>\n",
       "    <tr>\n",
       "      <th>max</th>\n",
       "      <td>2003.000000</td>\n",
       "      <td>4.000000</td>\n",
       "      <td>9.000000</td>\n",
       "      <td>9.500000</td>\n",
       "      <td>26.000000</td>\n",
       "      <td>69.817000</td>\n",
       "      <td>178.870000</td>\n",
       "      <td>524.600000</td>\n",
       "      <td>1277.000000</td>\n",
       "      <td>6.100000</td>\n",
       "      <td>9.000000</td>\n",
       "      <td>142807.000000</td>\n",
       "      <td>100000.000000</td>\n",
       "    </tr>\n",
       "  </tbody>\n",
       "</table>\n",
       "</div>"
      ],
      "text/plain": [
       "              Year  Tsunami Event Validity  Tsunami Cause Code  \\\n",
       "count   406.000000              406.000000          406.000000   \n",
       "mean   1958.270936                3.295567            1.736453   \n",
       "std      23.074233                1.116135            1.950499   \n",
       "min    1921.000000               -1.000000            0.000000   \n",
       "25%    1938.000000                3.000000            1.000000   \n",
       "50%    1960.000000                4.000000            1.000000   \n",
       "75%    1974.750000                4.000000            1.000000   \n",
       "max    2003.000000                4.000000            9.000000   \n",
       "\n",
       "       Earthquake Magnitude    Deposits    Latitude   Longitude  \\\n",
       "count            406.000000  406.000000  406.000000  406.000000   \n",
       "mean               7.054944    0.450739   20.297719   62.213133   \n",
       "std                0.747188    2.220285   27.005454  106.761600   \n",
       "min                4.300000    0.000000  -63.000000 -177.632000   \n",
       "25%                6.700000    0.000000   -3.290000    1.924000   \n",
       "50%                7.007684    0.000000   32.150000  124.070000   \n",
       "75%                7.600000    0.000000   40.627500  143.175000   \n",
       "max                9.500000   26.000000   69.817000  178.870000   \n",
       "\n",
       "       Maximum Water Height (m)  Number of Runups  Tsunami Magnitude (Iida)  \\\n",
       "count                406.000000        406.000000                406.000000   \n",
       "mean                   5.827860         21.709360                  0.197228   \n",
       "std                   27.443930         84.631543                  1.883445   \n",
       "min                    0.030000          0.000000                 -4.640000   \n",
       "25%                    0.400000          1.000000                 -0.700000   \n",
       "50%                    2.000000          2.000000                  0.197228   \n",
       "75%                    5.989469          9.000000                  1.000000   \n",
       "max                  524.600000       1277.000000                  6.100000   \n",
       "\n",
       "       Tsunami Intensity   Total Deaths  Total Injuries  \n",
       "count         406.000000     406.000000      406.000000  \n",
       "mean            0.520345     575.115764      684.544335  \n",
       "std             2.022479    7302.794732     5920.489946  \n",
       "min            -4.140000       0.000000        0.000000  \n",
       "25%            -1.000000       0.000000        0.000000  \n",
       "50%             0.500000       0.000000        0.000000  \n",
       "75%             2.000000       6.750000        0.000000  \n",
       "max             9.000000  142807.000000   100000.000000  "
      ]
     },
     "execution_count": 25,
     "metadata": {},
     "output_type": "execute_result"
    }
   ],
   "source": [
    "intensity.describe()"
   ]
  },
  {
   "cell_type": "markdown",
   "id": "82623577",
   "metadata": {},
   "source": [
    "### Tsunami Cause Code\n",
    "---\n",
    "\n",
    "0\tUnknown  \n",
    "1\tEarthquake  \n",
    "2\tQuestionable Earthquake  \n",
    "3\tEarthquake and Landslide  \n",
    "4\tVolcano and Earthquake  \n",
    "5\tVolcano, Earthquake, and Landslide  \n",
    "6\tVolcano   \n",
    "7\tVolcano and Landslide  \n",
    "8\tLandslide  \n",
    "9\tMeteorological  \n",
    "10\tExplosion  \n",
    "11\tAstronomical Tide  "
   ]
  },
  {
   "cell_type": "code",
   "execution_count": null,
   "id": "7408d5ae",
   "metadata": {},
   "outputs": [],
   "source": []
  }
 ],
 "metadata": {
  "kernelspec": {
   "display_name": "Python 3 (ipykernel)",
   "language": "python",
   "name": "python3"
  },
  "language_info": {
   "codemirror_mode": {
    "name": "ipython",
    "version": 3
   },
   "file_extension": ".py",
   "mimetype": "text/x-python",
   "name": "python",
   "nbconvert_exporter": "python",
   "pygments_lexer": "ipython3",
   "version": "3.9.12"
  }
 },
 "nbformat": 4,
 "nbformat_minor": 5
}
